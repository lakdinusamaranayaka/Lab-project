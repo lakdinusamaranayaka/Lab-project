{
  "nbformat": 4,
  "nbformat_minor": 0,
  "metadata": {
    "colab": {
      "name": "ESR 514- python-Assignment 2 .ipynb",
      "provenance": []
    },
    "kernelspec": {
      "name": "python3",
      "display_name": "Python 3"
    },
    "language_info": {
      "name": "python"
    }
  },
  "cells": [
    {
      "cell_type": "markdown",
      "source": [
        "1. Import the numpy package under the alias np."
      ],
      "metadata": {
        "id": "nkucG1RCkibd"
      }
    },
    {
      "cell_type": "code",
      "source": [
        "import numpy as np          #numpy import"
      ],
      "metadata": {
        "id": "Y_-KWLWokrzj"
      },
      "execution_count": null,
      "outputs": []
    },
    {
      "cell_type": "markdown",
      "source": [
        "2. Print the numpy version and the configuration."
      ],
      "metadata": {
        "id": "4IFitWd3k_Hb"
      }
    },
    {
      "cell_type": "code",
      "source": [
        "print(np.__version__)       #numpy version\n",
        "print(np.show_config())     #numpy configuration"
      ],
      "metadata": {
        "colab": {
          "base_uri": "https://localhost:8080/"
        },
        "id": "V99oNrtdlAYm",
        "outputId": "43951a51-4f82-4009-edc7-60061d6c0add"
      },
      "execution_count": null,
      "outputs": [
        {
          "output_type": "stream",
          "name": "stdout",
          "text": [
            "1.21.6\n",
            "blas_mkl_info:\n",
            "  NOT AVAILABLE\n",
            "blis_info:\n",
            "  NOT AVAILABLE\n",
            "openblas_info:\n",
            "    libraries = ['openblas', 'openblas']\n",
            "    library_dirs = ['/usr/local/lib']\n",
            "    language = c\n",
            "    define_macros = [('HAVE_CBLAS', None)]\n",
            "    runtime_library_dirs = ['/usr/local/lib']\n",
            "blas_opt_info:\n",
            "    libraries = ['openblas', 'openblas']\n",
            "    library_dirs = ['/usr/local/lib']\n",
            "    language = c\n",
            "    define_macros = [('HAVE_CBLAS', None)]\n",
            "    runtime_library_dirs = ['/usr/local/lib']\n",
            "lapack_mkl_info:\n",
            "  NOT AVAILABLE\n",
            "openblas_lapack_info:\n",
            "    libraries = ['openblas', 'openblas']\n",
            "    library_dirs = ['/usr/local/lib']\n",
            "    language = c\n",
            "    define_macros = [('HAVE_CBLAS', None)]\n",
            "    runtime_library_dirs = ['/usr/local/lib']\n",
            "lapack_opt_info:\n",
            "    libraries = ['openblas', 'openblas']\n",
            "    library_dirs = ['/usr/local/lib']\n",
            "    language = c\n",
            "    define_macros = [('HAVE_CBLAS', None)]\n",
            "    runtime_library_dirs = ['/usr/local/lib']\n",
            "Supported SIMD extensions in this NumPy install:\n",
            "    baseline = SSE,SSE2,SSE3\n",
            "    found = SSSE3,SSE41,POPCNT,SSE42,AVX,F16C,FMA3,AVX2\n",
            "    not found = AVX512F,AVX512CD,AVX512_KNL,AVX512_KNM,AVX512_SKX,AVX512_CLX,AVX512_CNL,AVX512_ICL\n",
            "None\n"
          ]
        }
      ]
    },
    {
      "cell_type": "markdown",
      "source": [
        "3. Create a null vector (an array) of size 5."
      ],
      "metadata": {
        "id": "-o-RtFy_lcBI"
      }
    },
    {
      "cell_type": "code",
      "source": [
        "array = np.zeros(5)       #create a null verctor\n",
        "print(array)"
      ],
      "metadata": {
        "colab": {
          "base_uri": "https://localhost:8080/"
        },
        "id": "Ek1_MkCRlhNB",
        "outputId": "4f4283bb-5e3c-4b70-ccb2-af2e719047a6"
      },
      "execution_count": null,
      "outputs": [
        {
          "output_type": "stream",
          "name": "stdout",
          "text": [
            "[0. 0. 0. 0. 0.]\n"
          ]
        }
      ]
    },
    {
      "cell_type": "markdown",
      "source": [
        "4. Create an identity matrix of size 10 and print its memory size which needed to store it on the\n",
        "computer memory."
      ],
      "metadata": {
        "id": "dyojzrAMlwm1"
      }
    },
    {
      "cell_type": "code",
      "source": [
        "array = np.eye(10)\n",
        "print(array)           #matrix of size 10\n",
        "print(array.shape)     #memory size"
      ],
      "metadata": {
        "colab": {
          "base_uri": "https://localhost:8080/"
        },
        "id": "NV_EG0OfmA82",
        "outputId": "79a69ad9-87b9-4ca8-8c07-8ccfcbd0f6f3"
      },
      "execution_count": null,
      "outputs": [
        {
          "output_type": "stream",
          "name": "stdout",
          "text": [
            "[[1. 0. 0. 0. 0. 0. 0. 0. 0. 0.]\n",
            " [0. 1. 0. 0. 0. 0. 0. 0. 0. 0.]\n",
            " [0. 0. 1. 0. 0. 0. 0. 0. 0. 0.]\n",
            " [0. 0. 0. 1. 0. 0. 0. 0. 0. 0.]\n",
            " [0. 0. 0. 0. 1. 0. 0. 0. 0. 0.]\n",
            " [0. 0. 0. 0. 0. 1. 0. 0. 0. 0.]\n",
            " [0. 0. 0. 0. 0. 0. 1. 0. 0. 0.]\n",
            " [0. 0. 0. 0. 0. 0. 0. 1. 0. 0.]\n",
            " [0. 0. 0. 0. 0. 0. 0. 0. 1. 0.]\n",
            " [0. 0. 0. 0. 0. 0. 0. 0. 0. 1.]]\n",
            "(10, 10)\n"
          ]
        }
      ]
    },
    {
      "cell_type": "markdown",
      "source": [
        "5. Create a vector with values ranging from 0 to 255."
      ],
      "metadata": {
        "id": "65HG35pymNuN"
      }
    },
    {
      "cell_type": "code",
      "source": [
        "array = np.arange(256)         #value ranging from 0 to 255\n",
        "print(array)"
      ],
      "metadata": {
        "colab": {
          "base_uri": "https://localhost:8080/"
        },
        "id": "i8QudrkVmReK",
        "outputId": "70d53da3-407c-45a1-9284-d24a62812286"
      },
      "execution_count": null,
      "outputs": [
        {
          "output_type": "stream",
          "name": "stdout",
          "text": [
            "[  0   1   2   3   4   5   6   7   8   9  10  11  12  13  14  15  16  17\n",
            "  18  19  20  21  22  23  24  25  26  27  28  29  30  31  32  33  34  35\n",
            "  36  37  38  39  40  41  42  43  44  45  46  47  48  49  50  51  52  53\n",
            "  54  55  56  57  58  59  60  61  62  63  64  65  66  67  68  69  70  71\n",
            "  72  73  74  75  76  77  78  79  80  81  82  83  84  85  86  87  88  89\n",
            "  90  91  92  93  94  95  96  97  98  99 100 101 102 103 104 105 106 107\n",
            " 108 109 110 111 112 113 114 115 116 117 118 119 120 121 122 123 124 125\n",
            " 126 127 128 129 130 131 132 133 134 135 136 137 138 139 140 141 142 143\n",
            " 144 145 146 147 148 149 150 151 152 153 154 155 156 157 158 159 160 161\n",
            " 162 163 164 165 166 167 168 169 170 171 172 173 174 175 176 177 178 179\n",
            " 180 181 182 183 184 185 186 187 188 189 190 191 192 193 194 195 196 197\n",
            " 198 199 200 201 202 203 204 205 206 207 208 209 210 211 212 213 214 215\n",
            " 216 217 218 219 220 221 222 223 224 225 226 227 228 229 230 231 232 233\n",
            " 234 235 236 237 238 239 240 241 242 243 244 245 246 247 248 249 250 251\n",
            " 252 253 254 255]\n"
          ]
        }
      ]
    },
    {
      "cell_type": "markdown",
      "source": [
        "6. Create a vector to store the values: 0, 1, 2, 3, 4, 5, 6, 7, 8, 9. Then reverse the vector in such a\n",
        "way that the first element becomes the last element in the reversed array."
      ],
      "metadata": {
        "id": "fUtemGMomcOv"
      }
    },
    {
      "cell_type": "code",
      "source": [
        "array = np.arange(10)      # store the value\n",
        "print(array)\n",
        "array1 = array[::-1]       #reverse stored value\n",
        "print(array1)"
      ],
      "metadata": {
        "colab": {
          "base_uri": "https://localhost:8080/"
        },
        "id": "7c9a2TOamozO",
        "outputId": "e5d2f7a6-afa6-4d01-fe21-9b87c9815d19"
      },
      "execution_count": null,
      "outputs": [
        {
          "output_type": "stream",
          "name": "stdout",
          "text": [
            "[0 1 2 3 4 5 6 7 8 9]\n",
            "[9 8 7 6 5 4 3 2 1 0]\n"
          ]
        }
      ]
    },
    {
      "cell_type": "markdown",
      "source": [
        "7. Create a 5 x 5 matrix with values ranging from 0 to 10."
      ],
      "metadata": {
        "id": "p6Vq3ENAm8vQ"
      }
    },
    {
      "cell_type": "code",
      "source": [
        "array = np.random.uniform(low=0, high=10, size=(5,5))\n",
        "print(array)\n"
      ],
      "metadata": {
        "colab": {
          "base_uri": "https://localhost:8080/"
        },
        "id": "nkNPqii5nDRK",
        "outputId": "a4657ab1-eda7-4a68-a8c2-9e964e69933f"
      },
      "execution_count": null,
      "outputs": [
        {
          "output_type": "stream",
          "name": "stdout",
          "text": [
            "[[5.24479551 8.29908933 6.60027558 5.60548723 6.54847609]\n",
            " [3.9505564  4.78117277 5.97101325 3.81408311 7.23844255]\n",
            " [1.08816242 4.65220871 4.2874058  5.98505    3.43621971]\n",
            " [1.98948209 6.31417818 2.01512934 3.8799491  3.57104474]\n",
            " [8.0530412  9.78282224 0.48580073 0.36011024 5.15011867]]\n"
          ]
        }
      ]
    },
    {
      "cell_type": "markdown",
      "source": [
        "Create a vector to store the following values: 19, 12, 0, -5, 0, 4, -6."
      ],
      "metadata": {
        "id": "FueSNzVfnXOY"
      }
    },
    {
      "cell_type": "code",
      "source": [
        "import numpy as np\n",
        "array = np.array([19, 12, 0, -5, 0, 4, -6])\n",
        "print(array)\n"
      ],
      "metadata": {
        "colab": {
          "base_uri": "https://localhost:8080/",
          "height": 0
        },
        "id": "TCbQ27_t5Xun",
        "outputId": "e9ff8c54-b881-4882-ff10-5bf37583e33b"
      },
      "execution_count": 5,
      "outputs": [
        {
          "output_type": "stream",
          "name": "stdout",
          "text": [
            "[19 12  0 -5  0  4 -6]\n"
          ]
        }
      ]
    },
    {
      "cell_type": "code",
      "source": [
        ""
      ],
      "metadata": {
        "id": "08Gs8w6h5XsJ"
      },
      "execution_count": null,
      "outputs": []
    },
    {
      "cell_type": "markdown",
      "source": [
        "a. Print the index value for -5."
      ],
      "metadata": {
        "id": "L6dFTc1Fn-Kp"
      }
    },
    {
      "cell_type": "code",
      "source": [
        "index= np.where(array == -5)\n",
        "print(index)"
      ],
      "metadata": {
        "colab": {
          "base_uri": "https://localhost:8080/",
          "height": 0
        },
        "id": "NB5GwPc5oADl",
        "outputId": "bc121bd0-0165-4b33-a1ed-835ffa560619"
      },
      "execution_count": 6,
      "outputs": [
        {
          "output_type": "stream",
          "name": "stdout",
          "text": [
            "(array([3]),)\n"
          ]
        }
      ]
    },
    {
      "cell_type": "markdown",
      "source": [
        "b. Print the indices of non-zero values."
      ],
      "metadata": {
        "id": "WBxIJOCloOdW"
      }
    },
    {
      "cell_type": "code",
      "source": [
        "index = np.where(array != 0)\n",
        "print( index)"
      ],
      "metadata": {
        "colab": {
          "base_uri": "https://localhost:8080/",
          "height": 0
        },
        "id": "cCFDjkERoU8c",
        "outputId": "ac71d8e7-058c-4187-bc06-5669138bfa5a"
      },
      "execution_count": 7,
      "outputs": [
        {
          "output_type": "stream",
          "name": "stdout",
          "text": [
            "(array([0, 1, 3, 5, 6]),)\n"
          ]
        }
      ]
    },
    {
      "cell_type": "markdown",
      "source": [
        "c. Find the minimum and maximum values."
      ],
      "metadata": {
        "id": "aPl_GVxDoi-R"
      }
    },
    {
      "cell_type": "code",
      "source": [
        "maxivalue = np.max(array)\n",
        "minivalue = np.min(array)\n",
        "print(\"The maximum value :\", maxivalue)\n",
        "print(\"The minimum value :\", minivalue)"
      ],
      "metadata": {
        "colab": {
          "base_uri": "https://localhost:8080/",
          "height": 0
        },
        "id": "r6iQOsD0onCs",
        "outputId": "caddc125-30bd-44e3-f14a-ff937112dc31"
      },
      "execution_count": 8,
      "outputs": [
        {
          "output_type": "stream",
          "name": "stdout",
          "text": [
            "The maximum value : 19\n",
            "The minimum value : -6\n"
          ]
        }
      ]
    },
    {
      "cell_type": "markdown",
      "source": [
        "9. Create an 8 x 8 matrix with 0s on the border and 1s inside (Hint: using the knowledge\n",
        "acquired from array slicing)."
      ],
      "metadata": {
        "id": "jqA2Qn-3pBCC"
      }
    },
    {
      "cell_type": "code",
      "source": [
        "array = np.ones((8,8))\n",
        "array[1:-1, 1:-1] = 0\n",
        "print(array)"
      ],
      "metadata": {
        "colab": {
          "base_uri": "https://localhost:8080/"
        },
        "id": "zv2L44e4pUgc",
        "outputId": "7b626d58-c479-4888-e79c-2a948b36fc67"
      },
      "execution_count": null,
      "outputs": [
        {
          "output_type": "stream",
          "name": "stdout",
          "text": [
            "[[1. 1. 1. 1. 1. 1. 1. 1.]\n",
            " [1. 0. 0. 0. 0. 0. 0. 1.]\n",
            " [1. 0. 0. 0. 0. 0. 0. 1.]\n",
            " [1. 0. 0. 0. 0. 0. 0. 1.]\n",
            " [1. 0. 0. 0. 0. 0. 0. 1.]\n",
            " [1. 0. 0. 0. 0. 0. 0. 1.]\n",
            " [1. 0. 0. 0. 0. 0. 0. 1.]\n",
            " [1. 1. 1. 1. 1. 1. 1. 1.]]\n"
          ]
        }
      ]
    },
    {
      "cell_type": "markdown",
      "source": [
        "Create the following 6 x 6 matrix given below."
      ],
      "metadata": {
        "id": "zUW5wvfxpd8u"
      }
    },
    {
      "cell_type": "code",
      "source": [
        "array = np.array([[12, 4, 6, 0, 55, 6], [19, 7, 0, 1, 8, 0], [99, 12, 3, 4, 2, 32], [6, 1, 23, 0, 45, 54], [78, 0, 156, 124, 7, 73], [0, 41, 0, 7, 6, 21]])\n",
        "print( array)"
      ],
      "metadata": {
        "colab": {
          "base_uri": "https://localhost:8080/"
        },
        "id": "unY_pHIDpwVY",
        "outputId": "a88e98ec-142b-40db-bc0b-b3f96b5cffbf"
      },
      "execution_count": null,
      "outputs": [
        {
          "output_type": "stream",
          "name": "stdout",
          "text": [
            "[[ 12   4   6   0  55   6]\n",
            " [ 19   7   0   1   8   0]\n",
            " [ 99  12   3   4   2  32]\n",
            " [  6   1  23   0  45  54]\n",
            " [ 78   0 156 124   7  73]\n",
            " [  0  41   0   7   6  21]]\n"
          ]
        }
      ]
    },
    {
      "cell_type": "markdown",
      "source": [
        "a. What is normalization?\n",
        "\n",
        "The normalization is an array as an input, normalizes the values of the array in the range of 0 to 1 by using some formula, and provides the normalized array as an output."
      ],
      "metadata": {
        "id": "AtMvKC6oqFEl"
      }
    },
    {
      "cell_type": "markdown",
      "source": [
        "b. What are the advantages of normalization in arrays?\n",
        "\n",
        "A more modest information base can be kept ,\n",
        "tables are narrowed ,\n",
        "It has easy understanable format\n"
      ],
      "metadata": {
        "id": "opb_E4WSrEOj"
      }
    },
    {
      "cell_type": "markdown",
      "source": [
        "c. Get the normalized matrix for the above matrix."
      ],
      "metadata": {
        "id": "k7pomKI7scsa"
      }
    },
    {
      "cell_type": "code",
      "source": [
        "normalize = np.linalg.norm(array)\n",
        "array1 = array/normalize\n",
        "print( array1)"
      ],
      "metadata": {
        "colab": {
          "base_uri": "https://localhost:8080/"
        },
        "id": "Rm0RCrf1sf_B",
        "outputId": "f47d3101-6a4e-4264-88a5-db2058ef69d3"
      },
      "execution_count": null,
      "outputs": [
        {
          "output_type": "stream",
          "name": "stdout",
          "text": [
            "[[0.04422718 0.01474239 0.02211359 0.         0.2027079  0.02211359]\n",
            " [0.07002637 0.02579919 0.         0.0036856  0.02948479 0.        ]\n",
            " [0.36487423 0.04422718 0.01105679 0.01474239 0.0073712  0.11793914]\n",
            " [0.02211359 0.0036856  0.08476876 0.         0.16585192 0.19902231]\n",
            " [0.28747666 0.         0.57495333 0.45701418 0.02579919 0.26904867]\n",
            " [0.         0.15110953 0.         0.02579919 0.02211359 0.07739756]]\n"
          ]
        }
      ]
    },
    {
      "cell_type": "markdown",
      "source": [
        "d. Reshape the array to (4, 9)."
      ],
      "metadata": {
        "id": "TZ02ALbctHeR"
      }
    },
    {
      "cell_type": "code",
      "source": [
        "array = array1.reshape(4, 9)\n",
        "print( array)"
      ],
      "metadata": {
        "colab": {
          "base_uri": "https://localhost:8080/"
        },
        "id": "1fItqkZqtOLK",
        "outputId": "ac5ef446-fd5a-408d-93b2-fa77d0d98fbd"
      },
      "execution_count": null,
      "outputs": [
        {
          "output_type": "stream",
          "name": "stdout",
          "text": [
            "[[0.04422718 0.01474239 0.02211359 0.         0.2027079  0.02211359\n",
            "  0.07002637 0.02579919 0.        ]\n",
            " [0.0036856  0.02948479 0.         0.36487423 0.04422718 0.01105679\n",
            "  0.01474239 0.0073712  0.11793914]\n",
            " [0.02211359 0.0036856  0.08476876 0.         0.16585192 0.19902231\n",
            "  0.28747666 0.         0.57495333]\n",
            " [0.45701418 0.02579919 0.26904867 0.         0.15110953 0.\n",
            "  0.02579919 0.02211359 0.07739756]]\n"
          ]
        }
      ]
    },
    {
      "cell_type": "markdown",
      "source": [
        "11. What are the results of the following two statements?\n",
        "a. print(np.array(0) / np.array(0))."
      ],
      "metadata": {
        "id": "tq7XxEDptcE8"
      }
    },
    {
      "cell_type": "code",
      "source": [
        "print( np.array(0) / np.array(0))"
      ],
      "metadata": {
        "colab": {
          "base_uri": "https://localhost:8080/"
        },
        "id": "az2qJYiXtz4K",
        "outputId": "b176c29f-c551-4d43-fc68-3c5b2b536d7d"
      },
      "execution_count": null,
      "outputs": [
        {
          "output_type": "stream",
          "name": "stdout",
          "text": [
            "nan\n"
          ]
        },
        {
          "output_type": "stream",
          "name": "stderr",
          "text": [
            "/usr/local/lib/python3.7/dist-packages/ipykernel_launcher.py:1: RuntimeWarning: invalid value encountered in true_divide\n",
            "  \"\"\"Entry point for launching an IPython kernel.\n"
          ]
        }
      ]
    },
    {
      "cell_type": "markdown",
      "source": [
        "b. print(np.array(0) // np.array(0))."
      ],
      "metadata": {
        "id": "Ab3mZnniuOt9"
      }
    },
    {
      "cell_type": "code",
      "source": [
        "print(np.array(0) // np.array(0))\n",
        "\n"
      ],
      "metadata": {
        "colab": {
          "base_uri": "https://localhost:8080/"
        },
        "id": "Ql-S918PuX1f",
        "outputId": "39f0c820-8936-4f44-c107-316c482ff373"
      },
      "execution_count": null,
      "outputs": [
        {
          "output_type": "stream",
          "name": "stdout",
          "text": [
            "0\n"
          ]
        },
        {
          "output_type": "stream",
          "name": "stderr",
          "text": [
            "/usr/local/lib/python3.7/dist-packages/ipykernel_launcher.py:1: RuntimeWarning: divide by zero encountered in floor_divide\n",
            "  \"\"\"Entry point for launching an IPython kernel.\n"
          ]
        }
      ]
    },
    {
      "cell_type": "code",
      "source": [
        "c. Explain the output you got from both statements.\n",
        " np.array(0)/np.array(0) gives a float output ,but np.array(0) // np.array(0)) gives the rounded integer value as output.\n"
      ],
      "metadata": {
        "id": "MeUBjKKTuXzC"
      },
      "execution_count": null,
      "outputs": []
    },
    {
      "cell_type": "markdown",
      "source": [
        "12. How to get the dates of the day before yesterday, yesterday, today and tomorrow? (Hint: the\n",
        "date should be a variable)."
      ],
      "metadata": {
        "id": "_mbQdqIsutWx"
      }
    },
    {
      "cell_type": "code",
      "source": [
        "import datetime \n",
        "today = datetime.date.today()\n",
        "day_before_yesterday = today - datetime.timedelta(days = 2)\n",
        "yesterday = today - datetime.timedelta(days = 1) \n",
        "tomorrow = today + datetime.timedelta(days = 1)\n",
        "print('Day before Yesterday : ', day_before_yesterday)\n",
        "print('Yesterday : ', yesterday)\n",
        "print('Today : ', today)\n",
        "print('Tomorrow : ', tomorrow)\n"
      ],
      "metadata": {
        "colab": {
          "base_uri": "https://localhost:8080/",
          "height": 0
        },
        "id": "rMZe9nOUu3_y",
        "outputId": "78afa872-8f92-46a3-858b-7e5348fe927b"
      },
      "execution_count": 9,
      "outputs": [
        {
          "output_type": "stream",
          "name": "stdout",
          "text": [
            "Day before Yesterday :  2022-07-19\n",
            "Yesterday :  2022-07-20\n",
            "Today :  2022-07-21\n",
            "Tomorrow :  2022-07-22\n"
          ]
        }
      ]
    },
    {
      "cell_type": "markdown",
      "source": [
        "13. Create a random vector of size 15 with values ranging from 0 to 50. Then sort the array."
      ],
      "metadata": {
        "id": "Uz00vCG_u-Hl"
      }
    },
    {
      "cell_type": "code",
      "source": [
        "array = np.random.uniform(51, size=(15))\n",
        "print(array)\n",
        "array1 = np.sort(array)\n",
        "print(array1)\n"
      ],
      "metadata": {
        "colab": {
          "base_uri": "https://localhost:8080/"
        },
        "id": "qpq18ecNu_yq",
        "outputId": "68e4749f-f580-42cd-b92e-007afdafde66"
      },
      "execution_count": null,
      "outputs": [
        {
          "output_type": "stream",
          "name": "stdout",
          "text": [
            "[26.31215042 40.81884269 19.57184859  3.88811725 46.03797438 39.38399627\n",
            "  9.11953775 43.07350775 30.7478946  24.11349448 22.60372235 28.44054028\n",
            " 10.8727333  36.05325544 21.26941355]\n",
            "[ 3.88811725  9.11953775 10.8727333  19.57184859 21.26941355 22.60372235\n",
            " 24.11349448 26.31215042 28.44054028 30.7478946  36.05325544 39.38399627\n",
            " 40.81884269 43.07350775 46.03797438]\n"
          ]
        }
      ]
    },
    {
      "cell_type": "markdown",
      "source": [
        "14. Create two random arrays P and Q and check whether they are equal or not."
      ],
      "metadata": {
        "id": "gGVuCPCtvQeQ"
      }
    },
    {
      "cell_type": "code",
      "source": [
        "arrayP = np.random.random()\n",
        "arrayQ = np.random.random()\n",
        "print(arrayP)\n",
        "print(arrayQ)\n",
        "if arrayP == arrayQ:\n",
        "  print(\"P and Q arrays are eqal\")\n",
        "else:\n",
        "  print(\"P and Q arrays are not eqal\")"
      ],
      "metadata": {
        "colab": {
          "base_uri": "https://localhost:8080/"
        },
        "id": "tEFeoKMOvYLG",
        "outputId": "6e3ceafd-96ae-481e-aa45-327385b87d7d"
      },
      "execution_count": null,
      "outputs": [
        {
          "output_type": "stream",
          "name": "stdout",
          "text": [
            "0.20238708695427754\n",
            "0.030324110591380737\n",
            "P and Q arrays are not eqal\n"
          ]
        }
      ]
    },
    {
      "cell_type": "markdown",
      "source": [
        "15. Implement a program (Currency Convertor App) to convert following currencies; United\n",
        "States Dollar (USD), Euro (EUR) and Pound sterling (GBP) to Sri Lankan Rupees (SLR)\n",
        "using the knowledge you gained from the first and second sessions. In this case, you have to\n",
        "get the currency type and the amount as user inputs. (Hint: latest currency rates can be found\n",
        "on the internet)."
      ],
      "metadata": {
        "id": "5YQtZslEvecP"
      }
    },
    {
      "cell_type": "code",
      "source": [
        "while True:\n",
        "  #  user input\n",
        "  print(\"Select the currency you want to convert to to Sri Lankan Rupees (SLR) :\")\n",
        "  print(\"1. United States Dollar (USD)\")\n",
        "  print(\"2. Euro (EUR)\")\n",
        "  print(\"3. Pound sterling (GBP)\")\n",
        "  choice = input(\"Enter your choice(1/2/3): \")\n",
        "\n",
        "# check if choice is one of the three options\n",
        "  if choice in ('1', '2', '3'):\n",
        "  \n",
        "    if choice == '1':\n",
        "     usd = float(input (\"Enter amount of United States Dollars (USD) you want to convert to Sri Lankan Rupees (SLR): \"))\n",
        "     usd_to_slr = 359.62\n",
        "     slr = usd * usd_to_slr\n",
        "     print(\"$ %.2f = Rs. %.2f\" % (usd, slr))\n",
        "    \n",
        "    elif choice == '2':\n",
        "      eur = float(input (\"Enter amount of Euros (EUR) you want to convert to Sri Lankan Rupees (SLR): \"))\n",
        "      eur_to_slr = 367.98\n",
        "      slr = eur * eur_to_slr\n",
        "      print(\"€ %.2f = Rs. %.2f\" % (eur, slr))\n",
        "      \n",
        "    elif choice == '3':\n",
        "      gbp = float(input (\"Enter amount of Pounds sterling (GBP) you want to convert to Sri Lankan Rupees (SLR): \"))\n",
        "      gbp_to_slr = 431.28\n",
        "      slr = gbp * gbp_to_slr\n",
        "      print(\"£ %.2f = Rs. %.2f\" % (gbp, slr))"
      ],
      "metadata": {
        "colab": {
          "base_uri": "https://localhost:8080/",
          "height": 0
        },
        "id": "Fl02ajauMhvc",
        "outputId": "0aad41e0-dc96-455a-dd0d-a3f5a680fc7b"
      },
      "execution_count": null,
      "outputs": [
        {
          "output_type": "stream",
          "name": "stdout",
          "text": [
            "Select the currency you want to convert to to Sri Lankan Rupees (SLR) :\n",
            "1. United States Dollar (USD)\n",
            "2. Euro (EUR)\n",
            "3. Pound sterling (GBP)\n",
            "Enter your choice(1/2/3): 1\n",
            "Enter amount of United States Dollars (USD) you want to convert to Sri Lankan Rupees (SLR): 1\n",
            "$ 1.00 = Rs. 359.62\n",
            "Select the currency you want to convert to to Sri Lankan Rupees (SLR) :\n",
            "1. United States Dollar (USD)\n",
            "2. Euro (EUR)\n",
            "3. Pound sterling (GBP)\n",
            "Enter your choice(1/2/3): 2\n",
            "Enter amount of Euros (EUR) you want to convert to Sri Lankan Rupees (SLR): 1\n",
            "€ 1.00 = Rs. 367.98\n",
            "Select the currency you want to convert to to Sri Lankan Rupees (SLR) :\n",
            "1. United States Dollar (USD)\n",
            "2. Euro (EUR)\n",
            "3. Pound sterling (GBP)\n",
            "Enter your choice(1/2/3): 3\n",
            "Enter amount of Pounds sterling (GBP) you want to convert to Sri Lankan Rupees (SLR): 1\n",
            "£ 1.00 = Rs. 431.28\n",
            "Select the currency you want to convert to to Sri Lankan Rupees (SLR) :\n",
            "1. United States Dollar (USD)\n",
            "2. Euro (EUR)\n",
            "3. Pound sterling (GBP)\n"
          ]
        }
      ]
    }
  ]
}